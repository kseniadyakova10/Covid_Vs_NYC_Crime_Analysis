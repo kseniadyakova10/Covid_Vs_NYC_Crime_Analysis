{
 "cells": [
  {
   "cell_type": "code",
   "execution_count": 1,
   "metadata": {},
   "outputs": [],
   "source": [
    "import pandas as pd\n",
    "from sodapy import Socrata\n",
    "import numpy as np\n",
    "import datetime"
   ]
  },
  {
   "cell_type": "markdown",
   "metadata": {},
   "source": [
    "##### 2020 data!!\n",
    "* 2020\n",
    "* March 1 - May 31st \n",
    "* Two age groups: 18-24 and 25-44\n",
    "* Only relevant columns \n",
    "\n",
    "\n",
    "##### The original file had 74,784 rows and the cleaned up file has 35,058 rows."
   ]
  },
  {
   "cell_type": "code",
   "execution_count": 4,
   "metadata": {},
   "outputs": [],
   "source": [
    "#Create DataFrame\n",
    "nypd_csv = pd.read_csv(\"resources/NYPD_Arrest_Data__Year_to_Date_.csv\")\n",
    "nypd_data = pd.DataFrame(nypd_csv)"
   ]
  },
  {
   "cell_type": "code",
   "execution_count": 5,
   "metadata": {},
   "outputs": [],
   "source": [
    "#Remove unnecessary columns\n",
    "nypd_select = nypd_data.loc[:, [\"ARREST_DATE\", \"PD_DESC\", \"OFNS_DESC\", \"AGE_GROUP\", \"ARREST_BORO\", \"LAW_CAT_CD\", \"PERP_SEX\", \"PERP_RACE\"]]"
   ]
  },
  {
   "cell_type": "code",
   "execution_count": 6,
   "metadata": {},
   "outputs": [],
   "source": [
    "#Parse out year and month \n",
    "nypd_select['ARREST_DATE_YEAR'] = pd.DatetimeIndex(nypd_select['ARREST_DATE']).year\n",
    "nypd_select['ARREST_DATE_MONTH'] = pd.DatetimeIndex(nypd_select['ARREST_DATE']).month"
   ]
  },
  {
   "cell_type": "code",
   "execution_count": 7,
   "metadata": {},
   "outputs": [],
   "source": [
    "#Filter by year 2020, then months March - May\n",
    "nypd_2020 = nypd_select.loc[nypd_select['ARREST_DATE_YEAR'] == 2020]\n",
    "nypd_2020_march_through_may = nypd_2020.loc[(nypd_2020['ARREST_DATE_MONTH'] > 2) & (nypd_2020['ARREST_DATE_MONTH'] < 6)] "
   ]
  },
  {
   "cell_type": "code",
   "execution_count": 10,
   "metadata": {},
   "outputs": [],
   "source": [
    "#Export CSV \n",
    "crime_counts_2020 = nypd_2020_march_through_may['OFNS_DESC'].value_counts()\n",
    "crime_counts_2020.to_csv('resources/2020_crime_counts.csv')"
   ]
  }
 ],
 "metadata": {
  "kernelspec": {
   "display_name": "Python 3",
   "language": "python",
   "name": "python3"
  },
  "language_info": {
   "codemirror_mode": {
    "name": "ipython",
    "version": 3
   },
   "file_extension": ".py",
   "mimetype": "text/x-python",
   "name": "python",
   "nbconvert_exporter": "python",
   "pygments_lexer": "ipython3",
   "version": "3.8.3"
  }
 },
 "nbformat": 4,
 "nbformat_minor": 4
}
