{
 "cells": [
  {
   "cell_type": "code",
   "execution_count": 81,
   "metadata": {},
   "outputs": [],
   "source": [
    "import os\n",
    "import pandas as pd\n",
    "import numpy as np\n",
    "import requests\n",
    "import matplotlib.pyplot as plt\n",
    "from matplotlib import dates as mpl_dates"
   ]
  },
  {
   "cell_type": "code",
   "execution_count": 82,
   "metadata": {},
   "outputs": [
    {
     "data": {
      "text/html": [
       "<div>\n",
       "<style scoped>\n",
       "    .dataframe tbody tr th:only-of-type {\n",
       "        vertical-align: middle;\n",
       "    }\n",
       "\n",
       "    .dataframe tbody tr th {\n",
       "        vertical-align: top;\n",
       "    }\n",
       "\n",
       "    .dataframe thead th {\n",
       "        text-align: right;\n",
       "    }\n",
       "</style>\n",
       "<table border=\"1\" class=\"dataframe\">\n",
       "  <thead>\n",
       "    <tr style=\"text-align: right;\">\n",
       "      <th></th>\n",
       "      <th>date_of_interest</th>\n",
       "      <th>case_count</th>\n",
       "      <th>hospitalized_count</th>\n",
       "      <th>death_count</th>\n",
       "    </tr>\n",
       "  </thead>\n",
       "  <tbody>\n",
       "    <tr>\n",
       "      <th>0</th>\n",
       "      <td>2020-02-29T00:00:00.000</td>\n",
       "      <td>1</td>\n",
       "      <td>11</td>\n",
       "      <td>0</td>\n",
       "    </tr>\n",
       "    <tr>\n",
       "      <th>1</th>\n",
       "      <td>2020-03-01T00:00:00.000</td>\n",
       "      <td>0</td>\n",
       "      <td>4</td>\n",
       "      <td>0</td>\n",
       "    </tr>\n",
       "  </tbody>\n",
       "</table>\n",
       "</div>"
      ],
      "text/plain": [
       "          date_of_interest case_count hospitalized_count death_count\n",
       "0  2020-02-29T00:00:00.000          1                 11           0\n",
       "1  2020-03-01T00:00:00.000          0                  4           0"
      ]
     },
     "execution_count": 82,
     "metadata": {},
     "output_type": "execute_result"
    }
   ],
   "source": [
    "url=\"https://data.cityofnewyork.us/resource/rc75-m7u3.json\"\n",
    "covid = requests.get(url)\n",
    "covid = covid.json()\n",
    "covid_data=pd.DataFrame(covid) \n",
    "\n",
    "covid_data.head(2)\n"
   ]
  },
  {
   "cell_type": "code",
   "execution_count": 83,
   "metadata": {},
   "outputs": [
    {
     "data": {
      "text/html": [
       "<div>\n",
       "<style scoped>\n",
       "    .dataframe tbody tr th:only-of-type {\n",
       "        vertical-align: middle;\n",
       "    }\n",
       "\n",
       "    .dataframe tbody tr th {\n",
       "        vertical-align: top;\n",
       "    }\n",
       "\n",
       "    .dataframe thead th {\n",
       "        text-align: right;\n",
       "    }\n",
       "</style>\n",
       "<table border=\"1\" class=\"dataframe\">\n",
       "  <thead>\n",
       "    <tr style=\"text-align: right;\">\n",
       "      <th></th>\n",
       "      <th>date_of_interest</th>\n",
       "      <th>case_count</th>\n",
       "      <th>hospitalized_count</th>\n",
       "      <th>death_count</th>\n",
       "      <th>Date</th>\n",
       "      <th>Time</th>\n",
       "    </tr>\n",
       "  </thead>\n",
       "  <tbody>\n",
       "    <tr>\n",
       "      <th>0</th>\n",
       "      <td>2020-02-29T00:00:00.000</td>\n",
       "      <td>1</td>\n",
       "      <td>11</td>\n",
       "      <td>0</td>\n",
       "      <td>2020-02-29</td>\n",
       "      <td>00:00:00.000</td>\n",
       "    </tr>\n",
       "    <tr>\n",
       "      <th>1</th>\n",
       "      <td>2020-03-01T00:00:00.000</td>\n",
       "      <td>0</td>\n",
       "      <td>4</td>\n",
       "      <td>0</td>\n",
       "      <td>2020-03-01</td>\n",
       "      <td>00:00:00.000</td>\n",
       "    </tr>\n",
       "  </tbody>\n",
       "</table>\n",
       "</div>"
      ],
      "text/plain": [
       "          date_of_interest case_count hospitalized_count death_count  \\\n",
       "0  2020-02-29T00:00:00.000          1                 11           0   \n",
       "1  2020-03-01T00:00:00.000          0                  4           0   \n",
       "\n",
       "         Date          Time  \n",
       "0  2020-02-29  00:00:00.000  \n",
       "1  2020-03-01  00:00:00.000  "
      ]
     },
     "execution_count": 83,
     "metadata": {},
     "output_type": "execute_result"
    }
   ],
   "source": [
    "covid_data[['Date','Time']] = covid_data[\"date_of_interest\"].str.split(\"T\",expand=True) \n",
    "\n",
    "covid_data.head(2)\n"
   ]
  },
  {
   "cell_type": "code",
   "execution_count": 84,
   "metadata": {},
   "outputs": [
    {
     "data": {
      "text/html": [
       "<div>\n",
       "<style scoped>\n",
       "    .dataframe tbody tr th:only-of-type {\n",
       "        vertical-align: middle;\n",
       "    }\n",
       "\n",
       "    .dataframe tbody tr th {\n",
       "        vertical-align: top;\n",
       "    }\n",
       "\n",
       "    .dataframe thead th {\n",
       "        text-align: right;\n",
       "    }\n",
       "</style>\n",
       "<table border=\"1\" class=\"dataframe\">\n",
       "  <thead>\n",
       "    <tr style=\"text-align: right;\">\n",
       "      <th></th>\n",
       "      <th>case_count</th>\n",
       "      <th>hospitalized_count</th>\n",
       "      <th>death_count</th>\n",
       "      <th>Date</th>\n",
       "    </tr>\n",
       "  </thead>\n",
       "  <tbody>\n",
       "    <tr>\n",
       "      <th>0</th>\n",
       "      <td>1</td>\n",
       "      <td>11</td>\n",
       "      <td>0</td>\n",
       "      <td>2020-02-29</td>\n",
       "    </tr>\n",
       "    <tr>\n",
       "      <th>1</th>\n",
       "      <td>0</td>\n",
       "      <td>4</td>\n",
       "      <td>0</td>\n",
       "      <td>2020-03-01</td>\n",
       "    </tr>\n",
       "  </tbody>\n",
       "</table>\n",
       "</div>"
      ],
      "text/plain": [
       "  case_count hospitalized_count death_count        Date\n",
       "0          1                 11           0  2020-02-29\n",
       "1          0                  4           0  2020-03-01"
      ]
     },
     "execution_count": 84,
     "metadata": {},
     "output_type": "execute_result"
    }
   ],
   "source": [
    "clean_covid=covid_data.drop(columns=['date_of_interest', 'Time'], axis=1)\n",
    "clean_covid.head(2)\n"
   ]
  },
  {
   "cell_type": "code",
   "execution_count": 85,
   "metadata": {},
   "outputs": [
    {
     "data": {
      "text/html": [
       "<div>\n",
       "<style scoped>\n",
       "    .dataframe tbody tr th:only-of-type {\n",
       "        vertical-align: middle;\n",
       "    }\n",
       "\n",
       "    .dataframe tbody tr th {\n",
       "        vertical-align: top;\n",
       "    }\n",
       "\n",
       "    .dataframe thead th {\n",
       "        text-align: right;\n",
       "    }\n",
       "</style>\n",
       "<table border=\"1\" class=\"dataframe\">\n",
       "  <thead>\n",
       "    <tr style=\"text-align: right;\">\n",
       "      <th></th>\n",
       "      <th>case_count</th>\n",
       "      <th>hospitalized_count</th>\n",
       "      <th>death_count</th>\n",
       "      <th>Date</th>\n",
       "      <th>Year</th>\n",
       "      <th>Month</th>\n",
       "      <th>Day</th>\n",
       "    </tr>\n",
       "  </thead>\n",
       "  <tbody>\n",
       "    <tr>\n",
       "      <th>0</th>\n",
       "      <td>1</td>\n",
       "      <td>11</td>\n",
       "      <td>0</td>\n",
       "      <td>2020-02-29</td>\n",
       "      <td>2020</td>\n",
       "      <td>02</td>\n",
       "      <td>29</td>\n",
       "    </tr>\n",
       "    <tr>\n",
       "      <th>1</th>\n",
       "      <td>0</td>\n",
       "      <td>4</td>\n",
       "      <td>0</td>\n",
       "      <td>2020-03-01</td>\n",
       "      <td>2020</td>\n",
       "      <td>03</td>\n",
       "      <td>01</td>\n",
       "    </tr>\n",
       "  </tbody>\n",
       "</table>\n",
       "</div>"
      ],
      "text/plain": [
       "  case_count hospitalized_count death_count        Date  Year Month Day\n",
       "0          1                 11           0  2020-02-29  2020    02  29\n",
       "1          0                  4           0  2020-03-01  2020    03  01"
      ]
     },
     "execution_count": 85,
     "metadata": {},
     "output_type": "execute_result"
    }
   ],
   "source": [
    "clean_covid[['Year','Month',\"Day\"]] = clean_covid[\"Date\"].str.split(\"-\",expand=True) \n",
    "clean_covid.head(2)"
   ]
  },
  {
   "cell_type": "code",
   "execution_count": 86,
   "metadata": {},
   "outputs": [
    {
     "data": {
      "text/html": [
       "<div>\n",
       "<style scoped>\n",
       "    .dataframe tbody tr th:only-of-type {\n",
       "        vertical-align: middle;\n",
       "    }\n",
       "\n",
       "    .dataframe tbody tr th {\n",
       "        vertical-align: top;\n",
       "    }\n",
       "\n",
       "    .dataframe thead th {\n",
       "        text-align: right;\n",
       "    }\n",
       "</style>\n",
       "<table border=\"1\" class=\"dataframe\">\n",
       "  <thead>\n",
       "    <tr style=\"text-align: right;\">\n",
       "      <th></th>\n",
       "      <th>case_count</th>\n",
       "      <th>hospitalized_count</th>\n",
       "      <th>death_count</th>\n",
       "      <th>Year</th>\n",
       "      <th>Month</th>\n",
       "      <th>Day</th>\n",
       "    </tr>\n",
       "  </thead>\n",
       "  <tbody>\n",
       "    <tr>\n",
       "      <th>0</th>\n",
       "      <td>1</td>\n",
       "      <td>11</td>\n",
       "      <td>0</td>\n",
       "      <td>2020</td>\n",
       "      <td>02</td>\n",
       "      <td>29</td>\n",
       "    </tr>\n",
       "    <tr>\n",
       "      <th>1</th>\n",
       "      <td>0</td>\n",
       "      <td>4</td>\n",
       "      <td>0</td>\n",
       "      <td>2020</td>\n",
       "      <td>03</td>\n",
       "      <td>01</td>\n",
       "    </tr>\n",
       "  </tbody>\n",
       "</table>\n",
       "</div>"
      ],
      "text/plain": [
       "  case_count hospitalized_count death_count  Year Month Day\n",
       "0          1                 11           0  2020    02  29\n",
       "1          0                  4           0  2020    03  01"
      ]
     },
     "execution_count": 86,
     "metadata": {},
     "output_type": "execute_result"
    }
   ],
   "source": [
    "final_covid=clean_covid.drop(columns=['Date'], axis=1)\n",
    "final_covid.head(2)"
   ]
  },
  {
   "cell_type": "code",
   "execution_count": 87,
   "metadata": {},
   "outputs": [
    {
     "data": {
      "text/html": [
       "<div>\n",
       "<style scoped>\n",
       "    .dataframe tbody tr th:only-of-type {\n",
       "        vertical-align: middle;\n",
       "    }\n",
       "\n",
       "    .dataframe tbody tr th {\n",
       "        vertical-align: top;\n",
       "    }\n",
       "\n",
       "    .dataframe thead th {\n",
       "        text-align: right;\n",
       "    }\n",
       "</style>\n",
       "<table border=\"1\" class=\"dataframe\">\n",
       "  <thead>\n",
       "    <tr style=\"text-align: right;\">\n",
       "      <th></th>\n",
       "      <th>case_count</th>\n",
       "      <th>hospitalized_count</th>\n",
       "      <th>death_count</th>\n",
       "      <th>Year</th>\n",
       "      <th>Month</th>\n",
       "      <th>Day</th>\n",
       "    </tr>\n",
       "  </thead>\n",
       "  <tbody>\n",
       "    <tr>\n",
       "      <th>1</th>\n",
       "      <td>0</td>\n",
       "      <td>4</td>\n",
       "      <td>0</td>\n",
       "      <td>2020</td>\n",
       "      <td>03</td>\n",
       "      <td>01</td>\n",
       "    </tr>\n",
       "    <tr>\n",
       "      <th>2</th>\n",
       "      <td>0</td>\n",
       "      <td>21</td>\n",
       "      <td>0</td>\n",
       "      <td>2020</td>\n",
       "      <td>03</td>\n",
       "      <td>02</td>\n",
       "    </tr>\n",
       "  </tbody>\n",
       "</table>\n",
       "</div>"
      ],
      "text/plain": [
       "  case_count hospitalized_count death_count  Year Month Day\n",
       "1          0                  4           0  2020    03  01\n",
       "2          0                 21           0  2020    03  02"
      ]
     },
     "execution_count": 87,
     "metadata": {},
     "output_type": "execute_result"
    }
   ],
   "source": [
    "march_covid_data = final_covid.loc[(clean_covid[\"Month\"] == \"03\"), :]\n",
    "march_covid_data.head(2)"
   ]
  },
  {
   "cell_type": "code",
   "execution_count": 96,
   "metadata": {},
   "outputs": [
    {
     "data": {
      "image/png": "[encoded data removed]",
      "text/plain": [
       "<Figure size 432x288 with 1 Axes>"
      ]
     },
     "metadata": {
      "needs_background": "light"
     },
     "output_type": "display_data"
    }
   ],
   "source": [
    "\n",
    "labels = march_covid_data[\"Day\"].astype('int')\n",
    "\n",
    "case_count = march_covid_data[\"case_count\"].astype('int')\n",
    "hospitalized_count = march_covid_data[\"hospitalized_count\"].astype('int')\n",
    "death_count = march_covid_data[\"death_count\"].astype('int')\n",
    "\n",
    "\n",
    "\n",
    "plt.plot(labels,death_count, \"--\", label=\"Death Count\")\n",
    "plt.plot(labels,hospitalized_count, \"g--\", label=\"Hospitalized Count\")\n",
    "plt.plot(labels,case_count, \"r--\", label=\"Case Count\")\n",
    "\n",
    "plt.yticks(np.arange(0,6000,500),np.arange(0,6000,500))\n",
    "\n",
    "plt.title(\"March Covid Data\")\n",
    "plt.xlabel(\"Days in March\")\n",
    "plt.ylabel(\"Case Counts\")\n",
    "plt.legend()\n",
    "plt.savefig(\"March Covid Data.png\")\n",
    "plt.show()"
   ]
  },
  {
   "cell_type": "code",
   "execution_count": 89,
   "metadata": {
    "scrolled": true
   },
   "outputs": [
    {
     "data": {
      "image/png": "[encoded data removed]",
      "text/plain": [
       "<Figure size 720x360 with 1 Axes>"
      ]
     },
     "metadata": {
      "needs_background": "light"
     },
     "output_type": "display_data"
    }
   ],
   "source": [
    "labels = march_covid_data[\"Day\"]\n",
    "case_count = march_covid_data[\"case_count\"].astype('int')\n",
    "\n",
    "plt.figure(figsize=(10,5))\n",
    "plt.plot(labels,case_count, \"r--\", label=\"Case Count\")\n",
    "\n",
    "plt.yticks(np.arange(0,6000,500),np.arange(0,6000,500))\n",
    "\n",
    "plt.title(\"March Covid Data\")\n",
    "plt.xlabel(\"Days in March\")\n",
    "plt.ylabel(\"Case Counts\")\n",
    "plt.legend()\n",
    "\n",
    "\n",
    "plt.show()"
   ]
  },
  {
   "cell_type": "code",
   "execution_count": 90,
   "metadata": {},
   "outputs": [
    {
     "data": {
      "text/html": [
       "<div>\n",
       "<style scoped>\n",
       "    .dataframe tbody tr th:only-of-type {\n",
       "        vertical-align: middle;\n",
       "    }\n",
       "\n",
       "    .dataframe tbody tr th {\n",
       "        vertical-align: top;\n",
       "    }\n",
       "\n",
       "    .dataframe thead th {\n",
       "        text-align: right;\n",
       "    }\n",
       "</style>\n",
       "<table border=\"1\" class=\"dataframe\">\n",
       "  <thead>\n",
       "    <tr style=\"text-align: right;\">\n",
       "      <th></th>\n",
       "      <th>ARREST_KEY</th>\n",
       "      <th>ARREST_DATE</th>\n",
       "      <th>PD_CD</th>\n",
       "      <th>PD_DESC</th>\n",
       "      <th>KY_CD</th>\n",
       "      <th>OFNS_DESC</th>\n",
       "      <th>LAW_CODE</th>\n",
       "      <th>LAW_CAT_CD</th>\n",
       "      <th>ARREST_BORO</th>\n",
       "      <th>ARREST_PRECINCT</th>\n",
       "      <th>JURISDICTION_CODE</th>\n",
       "      <th>AGE_GROUP</th>\n",
       "      <th>PERP_SEX</th>\n",
       "      <th>PERP_RACE</th>\n",
       "      <th>X_COORD_CD</th>\n",
       "      <th>Y_COORD_CD</th>\n",
       "      <th>Latitude</th>\n",
       "      <th>Longitude</th>\n",
       "      <th>New Georeferenced Column</th>\n",
       "    </tr>\n",
       "  </thead>\n",
       "  <tbody>\n",
       "    <tr>\n",
       "      <th>0</th>\n",
       "      <td>214353678</td>\n",
       "      <td>06/18/2020</td>\n",
       "      <td>109.0</td>\n",
       "      <td>ASSAULT 2,1,UNCLASSIFIED</td>\n",
       "      <td>106.0</td>\n",
       "      <td>FELONY ASSAULT</td>\n",
       "      <td>PL 1200501</td>\n",
       "      <td>F</td>\n",
       "      <td>K</td>\n",
       "      <td>68</td>\n",
       "      <td>0</td>\n",
       "      <td>18-24</td>\n",
       "      <td>F</td>\n",
       "      <td>WHITE HISPANIC</td>\n",
       "      <td>978016</td>\n",
       "      <td>172087</td>\n",
       "      <td>40.639022</td>\n",
       "      <td>-74.022464</td>\n",
       "      <td>POINT (-74.02246352399999 40.63902167200007)</td>\n",
       "    </tr>\n",
       "    <tr>\n",
       "      <th>1</th>\n",
       "      <td>210517846</td>\n",
       "      <td>03/04/2020</td>\n",
       "      <td>969.0</td>\n",
       "      <td>TRAFFIC,UNCLASSIFIED INFRACTIO</td>\n",
       "      <td>881.0</td>\n",
       "      <td>OTHER TRAFFIC INFRACTION</td>\n",
       "      <td>VTL051101A</td>\n",
       "      <td>M</td>\n",
       "      <td>M</td>\n",
       "      <td>10</td>\n",
       "      <td>0</td>\n",
       "      <td>25-44</td>\n",
       "      <td>M</td>\n",
       "      <td>BLACK HISPANIC</td>\n",
       "      <td>984331</td>\n",
       "      <td>209268</td>\n",
       "      <td>40.741077</td>\n",
       "      <td>-73.999709</td>\n",
       "      <td>POINT (-73.99970914499994 40.74107715900004)</td>\n",
       "    </tr>\n",
       "  </tbody>\n",
       "</table>\n",
       "</div>"
      ],
      "text/plain": [
       "   ARREST_KEY ARREST_DATE  PD_CD                         PD_DESC  KY_CD  \\\n",
       "0   214353678  06/18/2020  109.0        ASSAULT 2,1,UNCLASSIFIED  106.0   \n",
       "1   210517846  03/04/2020  969.0  TRAFFIC,UNCLASSIFIED INFRACTIO  881.0   \n",
       "\n",
       "                  OFNS_DESC    LAW_CODE LAW_CAT_CD ARREST_BORO  \\\n",
       "0            FELONY ASSAULT  PL 1200501          F           K   \n",
       "1  OTHER TRAFFIC INFRACTION  VTL051101A          M           M   \n",
       "\n",
       "   ARREST_PRECINCT  JURISDICTION_CODE AGE_GROUP PERP_SEX       PERP_RACE  \\\n",
       "0               68                  0     18-24        F  WHITE HISPANIC   \n",
       "1               10                  0     25-44        M  BLACK HISPANIC   \n",
       "\n",
       "   X_COORD_CD  Y_COORD_CD   Latitude  Longitude  \\\n",
       "0      978016      172087  40.639022 -74.022464   \n",
       "1      984331      209268  40.741077 -73.999709   \n",
       "\n",
       "                       New Georeferenced Column  \n",
       "0  POINT (-74.02246352399999 40.63902167200007)  \n",
       "1  POINT (-73.99970914499994 40.74107715900004)  "
      ]
     },
     "execution_count": 90,
     "metadata": {},
     "output_type": "execute_result"
    }
   ],
   "source": [
    "data = \"resources/NYPD_Arrest_Data__Year_to_Date_.csv\"\n",
    "nypd_data = pd.read_csv(data)\n",
    "nypd_data.head(2)"
   ]
  },
  {
   "cell_type": "code",
   "execution_count": 91,
   "metadata": {},
   "outputs": [
    {
     "data": {
      "text/html": [
       "<div>\n",
       "<style scoped>\n",
       "    .dataframe tbody tr th:only-of-type {\n",
       "        vertical-align: middle;\n",
       "    }\n",
       "\n",
       "    .dataframe tbody tr th {\n",
       "        vertical-align: top;\n",
       "    }\n",
       "\n",
       "    .dataframe thead th {\n",
       "        text-align: right;\n",
       "    }\n",
       "</style>\n",
       "<table border=\"1\" class=\"dataframe\">\n",
       "  <thead>\n",
       "    <tr style=\"text-align: right;\">\n",
       "      <th></th>\n",
       "      <th>ARREST_KEY</th>\n",
       "      <th>ARREST_DATE</th>\n",
       "      <th>PD_CD</th>\n",
       "      <th>PD_DESC</th>\n",
       "      <th>KY_CD</th>\n",
       "      <th>OFNS_DESC</th>\n",
       "      <th>LAW_CODE</th>\n",
       "      <th>LAW_CAT_CD</th>\n",
       "      <th>ARREST_BORO</th>\n",
       "      <th>ARREST_PRECINCT</th>\n",
       "      <th>...</th>\n",
       "      <th>PERP_SEX</th>\n",
       "      <th>PERP_RACE</th>\n",
       "      <th>X_COORD_CD</th>\n",
       "      <th>Y_COORD_CD</th>\n",
       "      <th>Latitude</th>\n",
       "      <th>Longitude</th>\n",
       "      <th>New Georeferenced Column</th>\n",
       "      <th>Month</th>\n",
       "      <th>Day</th>\n",
       "      <th>Year</th>\n",
       "    </tr>\n",
       "  </thead>\n",
       "  <tbody>\n",
       "    <tr>\n",
       "      <th>0</th>\n",
       "      <td>214353678</td>\n",
       "      <td>06/18/2020</td>\n",
       "      <td>109.0</td>\n",
       "      <td>ASSAULT 2,1,UNCLASSIFIED</td>\n",
       "      <td>106.0</td>\n",
       "      <td>FELONY ASSAULT</td>\n",
       "      <td>PL 1200501</td>\n",
       "      <td>F</td>\n",
       "      <td>K</td>\n",
       "      <td>68</td>\n",
       "      <td>...</td>\n",
       "      <td>F</td>\n",
       "      <td>WHITE HISPANIC</td>\n",
       "      <td>978016</td>\n",
       "      <td>172087</td>\n",
       "      <td>40.639022</td>\n",
       "      <td>-74.022464</td>\n",
       "      <td>POINT (-74.02246352399999 40.63902167200007)</td>\n",
       "      <td>06</td>\n",
       "      <td>18</td>\n",
       "      <td>2020</td>\n",
       "    </tr>\n",
       "    <tr>\n",
       "      <th>1</th>\n",
       "      <td>210517846</td>\n",
       "      <td>03/04/2020</td>\n",
       "      <td>969.0</td>\n",
       "      <td>TRAFFIC,UNCLASSIFIED INFRACTIO</td>\n",
       "      <td>881.0</td>\n",
       "      <td>OTHER TRAFFIC INFRACTION</td>\n",
       "      <td>VTL051101A</td>\n",
       "      <td>M</td>\n",
       "      <td>M</td>\n",
       "      <td>10</td>\n",
       "      <td>...</td>\n",
       "      <td>M</td>\n",
       "      <td>BLACK HISPANIC</td>\n",
       "      <td>984331</td>\n",
       "      <td>209268</td>\n",
       "      <td>40.741077</td>\n",
       "      <td>-73.999709</td>\n",
       "      <td>POINT (-73.99970914499994 40.74107715900004)</td>\n",
       "      <td>03</td>\n",
       "      <td>04</td>\n",
       "      <td>2020</td>\n",
       "    </tr>\n",
       "  </tbody>\n",
       "</table>\n",
       "<p>2 rows × 22 columns</p>\n",
       "</div>"
      ],
      "text/plain": [
       "   ARREST_KEY ARREST_DATE  PD_CD                         PD_DESC  KY_CD  \\\n",
       "0   214353678  06/18/2020  109.0        ASSAULT 2,1,UNCLASSIFIED  106.0   \n",
       "1   210517846  03/04/2020  969.0  TRAFFIC,UNCLASSIFIED INFRACTIO  881.0   \n",
       "\n",
       "                  OFNS_DESC    LAW_CODE LAW_CAT_CD ARREST_BORO  \\\n",
       "0            FELONY ASSAULT  PL 1200501          F           K   \n",
       "1  OTHER TRAFFIC INFRACTION  VTL051101A          M           M   \n",
       "\n",
       "   ARREST_PRECINCT  ...  PERP_SEX       PERP_RACE X_COORD_CD Y_COORD_CD  \\\n",
       "0               68  ...         F  WHITE HISPANIC     978016     172087   \n",
       "1               10  ...         M  BLACK HISPANIC     984331     209268   \n",
       "\n",
       "    Latitude  Longitude                      New Georeferenced Column  Month  \\\n",
       "0  40.639022 -74.022464  POINT (-74.02246352399999 40.63902167200007)     06   \n",
       "1  40.741077 -73.999709  POINT (-73.99970914499994 40.74107715900004)     03   \n",
       "\n",
       "  Day  Year  \n",
       "0  18  2020  \n",
       "1  04  2020  \n",
       "\n",
       "[2 rows x 22 columns]"
      ]
     },
     "execution_count": 91,
     "metadata": {},
     "output_type": "execute_result"
    }
   ],
   "source": [
    "nypd_data[['Month','Day',\"Year\"]] = nypd_data[\"ARREST_DATE\"].str.split(\"/\",expand=True) \n",
    "nypd_data.head(2)"
   ]
  },
  {
   "cell_type": "code",
   "execution_count": 92,
   "metadata": {},
   "outputs": [
    {
     "data": {
      "text/html": [
       "<div>\n",
       "<style scoped>\n",
       "    .dataframe tbody tr th:only-of-type {\n",
       "        vertical-align: middle;\n",
       "    }\n",
       "\n",
       "    .dataframe tbody tr th {\n",
       "        vertical-align: top;\n",
       "    }\n",
       "\n",
       "    .dataframe thead th {\n",
       "        text-align: right;\n",
       "    }\n",
       "</style>\n",
       "<table border=\"1\" class=\"dataframe\">\n",
       "  <thead>\n",
       "    <tr style=\"text-align: right;\">\n",
       "      <th></th>\n",
       "      <th>OFNS_DESC</th>\n",
       "      <th>PERP_SEX</th>\n",
       "      <th>Month</th>\n",
       "      <th>Day</th>\n",
       "      <th>Year</th>\n",
       "    </tr>\n",
       "  </thead>\n",
       "  <tbody>\n",
       "    <tr>\n",
       "      <th>0</th>\n",
       "      <td>FELONY ASSAULT</td>\n",
       "      <td>F</td>\n",
       "      <td>06</td>\n",
       "      <td>18</td>\n",
       "      <td>2020</td>\n",
       "    </tr>\n",
       "    <tr>\n",
       "      <th>1</th>\n",
       "      <td>OTHER TRAFFIC INFRACTION</td>\n",
       "      <td>M</td>\n",
       "      <td>03</td>\n",
       "      <td>04</td>\n",
       "      <td>2020</td>\n",
       "    </tr>\n",
       "  </tbody>\n",
       "</table>\n",
       "</div>"
      ],
      "text/plain": [
       "                  OFNS_DESC PERP_SEX Month Day  Year\n",
       "0            FELONY ASSAULT        F    06  18  2020\n",
       "1  OTHER TRAFFIC INFRACTION        M    03  04  2020"
      ]
     },
     "execution_count": 92,
     "metadata": {},
     "output_type": "execute_result"
    }
   ],
   "source": [
    "clean_nypd_data = nypd_data[['OFNS_DESC','PERP_SEX','Month','Day',\"Year\"]]\n",
    "clean_nypd_data.head(2)"
   ]
  },
  {
   "cell_type": "code",
   "execution_count": 93,
   "metadata": {},
   "outputs": [
    {
     "data": {
      "text/html": [
       "<div>\n",
       "<style scoped>\n",
       "    .dataframe tbody tr th:only-of-type {\n",
       "        vertical-align: middle;\n",
       "    }\n",
       "\n",
       "    .dataframe tbody tr th {\n",
       "        vertical-align: top;\n",
       "    }\n",
       "\n",
       "    .dataframe thead th {\n",
       "        text-align: right;\n",
       "    }\n",
       "</style>\n",
       "<table border=\"1\" class=\"dataframe\">\n",
       "  <thead>\n",
       "    <tr style=\"text-align: right;\">\n",
       "      <th></th>\n",
       "      <th>OFNS_DESC</th>\n",
       "      <th>PERP_SEX</th>\n",
       "      <th>Month</th>\n",
       "      <th>Day</th>\n",
       "      <th>Year</th>\n",
       "    </tr>\n",
       "  </thead>\n",
       "  <tbody>\n",
       "    <tr>\n",
       "      <th>1</th>\n",
       "      <td>OTHER TRAFFIC INFRACTION</td>\n",
       "      <td>M</td>\n",
       "      <td>03</td>\n",
       "      <td>04</td>\n",
       "      <td>2020</td>\n",
       "    </tr>\n",
       "    <tr>\n",
       "      <th>7</th>\n",
       "      <td>PETIT LARCENY</td>\n",
       "      <td>M</td>\n",
       "      <td>03</td>\n",
       "      <td>10</td>\n",
       "      <td>2020</td>\n",
       "    </tr>\n",
       "  </tbody>\n",
       "</table>\n",
       "</div>"
      ],
      "text/plain": [
       "                  OFNS_DESC PERP_SEX Month Day  Year\n",
       "1  OTHER TRAFFIC INFRACTION        M    03  04  2020\n",
       "7             PETIT LARCENY        M    03  10  2020"
      ]
     },
     "execution_count": 93,
     "metadata": {},
     "output_type": "execute_result"
    }
   ],
   "source": [
    "march_nypd_data = clean_nypd_data.loc[(clean_nypd_data[\"Month\"] == \"03\"),:]\n",
    "march_nypd_data.head(2)"
   ]
  },
  {
   "cell_type": "code",
   "execution_count": 94,
   "metadata": {},
   "outputs": [
    {
     "data": {
      "text/plain": [
       "Day\n",
       "01    407\n",
       "02    531\n",
       "Name: OFNS_DESC, dtype: int64"
      ]
     },
     "execution_count": 94,
     "metadata": {},
     "output_type": "execute_result"
    }
   ],
   "source": [
    "\n",
    "group_ofns = march_nypd_data.groupby(\"Day\")\n",
    "count_ofns = group_ofns[\"OFNS_DESC\"].count()\n",
    "count_ofns.head(2)"
   ]
  },
  {
   "cell_type": "code",
   "execution_count": 97,
   "metadata": {
    "scrolled": true
   },
   "outputs": [
    {
     "data": {
      "image/png": "[encoded data removed]",
      "text/plain": [
       "<Figure size 720x360 with 1 Axes>"
      ]
     },
     "metadata": {
      "needs_background": "light"
     },
     "output_type": "display_data"
    }
   ],
   "source": [
    "labels = march_covid_data[\"Day\"]\n",
    "case_count = march_covid_data[\"case_count\"].astype('int')\n",
    "\n",
    "plt.figure(figsize=(10,5))\n",
    "plt.plot(labels,case_count, \"r--\", label=\"Case Count\")\n",
    "plt.plot(labels,count_ofns,\"b--\",label=\"NYPD Arrest Count\")\n",
    "plt.yticks(np.arange(0,6000,500),np.arange(0,6000,500))\n",
    "\n",
    "plt.title(\"March Covid Count Vs NYPD Arrest Count\")\n",
    "plt.xlabel(\"Days in March\")\n",
    "plt.ylabel(\"Case Counts\")\n",
    "plt.legend()\n",
    "plt.savefig(\"March Covid Count Vs NYPD Arrest Count.png\")\n",
    "\n",
    "plt.show()\n",
    "plt.show()"
   ]
  },
  {
   "cell_type": "code",
   "execution_count": null,
   "metadata": {},
   "outputs": [],
   "source": []
  }
 ],
 "metadata": {
  "kernelspec": {
   "display_name": "Python 3",
   "language": "python",
   "name": "python3"
  },
  "language_info": {
   "codemirror_mode": {
    "name": "ipython",
    "version": 3
   },
   "file_extension": ".py",
   "mimetype": "text/x-python",
   "name": "python",
   "nbconvert_exporter": "python",
   "pygments_lexer": "ipython3",
   "version": "3.8.3"
  }
 },
 "nbformat": 4,
 "nbformat_minor": 4
}
